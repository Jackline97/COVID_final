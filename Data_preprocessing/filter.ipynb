{
 "cells": [
  {
   "cell_type": "code",
   "execution_count": 6,
   "metadata": {},
   "outputs": [],
   "source": [
    "import pandas as pd\n",
    "unlabeled_final = pd.read_csv('data_unlabled_data_final_version2.csv',sep=',',encoding = \"ISO-8859-1\")\n",
    "confirmed_maclious_final = pd.read_csv('data_confirmed_CovidURL_final_version2.csv',sep=',',encoding = \"ISO-8859-1\")\n",
    "white_list_final = pd.read_csv('data_Confirmed_whitelist_final_version2.csv',sep=',',encoding = \"ISO-8859-1\")\n",
    "phish_tank_final = pd.read_csv('phish_tank_final_version.csv',sep=',',encoding = \"ISO-8859-1\")"
   ]
  },
  {
   "cell_type": "code",
   "execution_count": 7,
   "metadata": {},
   "outputs": [
    {
     "name": "stderr",
     "output_type": "stream",
     "text": [
      "100%|██████████| 98251/98251 [00:00<00:00, 1616849.68it/s]"
     ]
    },
    {
     "name": "stdout",
     "output_type": "stream",
     "text": [
      "151\n"
     ]
    },
    {
     "name": "stderr",
     "output_type": "stream",
     "text": [
      "\n"
     ]
    }
   ],
   "source": [
    "keyword_list = ['covid','corna','virus']\n",
    "from tqdm import tqdm\n",
    "temp_list = []\n",
    "temp = 0\n",
    "for i in tqdm(phish_tank_final['Unified_url']):\n",
    "    for j in keyword_list:\n",
    "        if j in i:\n",
    "            temp+=1\n",
    "            temp_list.append(i)\n",
    "print(temp)"
   ]
  },
  {
   "cell_type": "code",
   "execution_count": 9,
   "metadata": {},
   "outputs": [
    {
     "data": {
      "text/plain": [
       "0.9840261502405329"
      ]
     },
     "execution_count": 9,
     "metadata": {},
     "output_type": "execute_result"
    }
   ],
   "source": [
    "1- 3108/194568"
   ]
  },
  {
   "cell_type": "code",
   "execution_count": 8,
   "metadata": {},
   "outputs": [
    {
     "data": {
      "text/plain": [
       "['https://19covid-gouv12.com',\n",
       " 'https://actualisatie.updateics-covid19.noez.me',\n",
       " 'https://airbnb.id-covid19.com',\n",
       " 'https://amazon.co.jp.initiativescompany-news-covid19-20200316token4787f6f3e205921236.buzz',\n",
       " 'https://americanascovidshop.com',\n",
       " 'https://antiviruscompares2020.com',\n",
       " 'https://antivirushelps.com',\n",
       " 'https://apple.covid19solidario.es',\n",
       " 'https://aruba-covid19.u720493s8q.ha004.t.justns.ru',\n",
       " 'https://atualizacaocaixacovid-19.com',\n",
       " 'https://bell-covid19.com',\n",
       " 'https://berita-covid-19-terkini-tasikmalaya.000webhostapp.com',\n",
       " 'https://bokepspecialcovid19.event-indo.com',\n",
       " 'https://bokepviral.19covidd.com',\n",
       " 'https://bp-formularios-covid19.azurewebsites.net',\n",
       " 'https://carrefourcovid.com',\n",
       " 'https://chase-covid19s.com',\n",
       " 'https://chase7-covid.com',\n",
       " 'https://chasecovid19s.com',\n",
       " 'https://chasecovid19t.com',\n",
       " 'https://chasecovid19v.com',\n",
       " 'https://chat-whatsapps.19covidd.com',\n",
       " 'https://click.cocovid.co',\n",
       " 'https://cocovid.co',\n",
       " 'https://computervirusrelief.com',\n",
       " 'https://corona-virusus.com',\n",
       " 'https://corona19covid.000webhostapp.com',\n",
       " 'https://coronavirusfactory.com',\n",
       " 'https://coronavirusfeedback.com',\n",
       " 'https://coronavirushazard.com',\n",
       " 'https://coronavirusinasec.000webhostapp.com',\n",
       " 'https://coronavirusnews.000webhostapp.com',\n",
       " 'https://coronavirusonooeir.huidps.com',\n",
       " 'https://coronavirusonooeir.luxciosoiop.com',\n",
       " 'https://coronavirustrouble.com',\n",
       " 'https://corotnavirusonline.huidps.com',\n",
       " 'https://covid--19-shop.rf.gd',\n",
       " 'https://covid-19.bdtime.news',\n",
       " 'https://covid-19.xxx-wa.com',\n",
       " 'https://covid-192.godaddysites.com',\n",
       " 'https://covid-19rc.com',\n",
       " 'https://covid.seguranca-bb.info',\n",
       " 'https://covid19---shop.rf.gd',\n",
       " 'https://covid19-credits.com',\n",
       " 'https://covid19-infor.net',\n",
       " 'https://covid19-seguranca.autosmsbb.com',\n",
       " 'https://covid19-support.aquintaessencia.com.br',\n",
       " 'https://covid19-survei.000webhostapp.com',\n",
       " 'https://covid19-vat.rf.gd',\n",
       " 'https://covid19.id-airbnb.com',\n",
       " 'https://covid19.seguranca-bb.info',\n",
       " 'https://covid19evdekalaidatinial.com',\n",
       " 'https://covid19lssuedbill.com',\n",
       " 'https://covid19partnership.000webhostapp.com',\n",
       " 'https://covid19peticija.000webhostapp.com',\n",
       " 'https://covid19voip.com',\n",
       " 'https://covid2019colpatria.com.co',\n",
       " 'https://covidcro.tk',\n",
       " 'https://covidi9.gq',\n",
       " 'https://covidluiza.000webhostapp.com',\n",
       " 'https://covidmask.xyz',\n",
       " 'https://covidreamz.com',\n",
       " 'https://covidsome.com',\n",
       " 'https://covidstimulusreliefs.000webhostapp.com',\n",
       " 'https://cracovidfunds.com',\n",
       " 'https://craemrcovid19.com',\n",
       " 'https://cronavirus199.com',\n",
       " 'https://dailypossitivehamervirus.club',\n",
       " 'https://dati-covid19-psd2.000webhostapp.com',\n",
       " 'https://descovid-19.com',\n",
       " 'https://eecovid19-support150.hyundaigiadinhsaigon.com',\n",
       " 'https://eniyiantivirusprogrami.com',\n",
       " 'https://eshop-covid19.rf.gd',\n",
       " 'https://faq-coronavirus-financial-help.lsign.site',\n",
       " 'https://faq-coronavirus-financial-help.nsign.me',\n",
       " 'https://ghostvirus.000webhostapp.com',\n",
       " 'https://goovcovid19.com',\n",
       " 'https://gouvcanada-covid19.com',\n",
       " 'https://group.whatsapps.19covidd.com',\n",
       " 'https://grupbokep28.19covidd.com',\n",
       " 'https://grupwhatsapp.19covidd.com',\n",
       " 'https://ing.securecovid-19.noez.me',\n",
       " 'https://iremoscombaterocovid.ml',\n",
       " 'https://irs-gov-coronavirus-get.ue.r.appspot.com',\n",
       " 'https://irs-gov-covid19.phpnet.us',\n",
       " 'https://ita-covid19.com',\n",
       " 'https://itacontracovid-19.ml',\n",
       " 'https://italy-covid19.u720553s9g.ha004.t.justns.ru',\n",
       " 'https://join-whatsapp-bokep62.covid99.gq',\n",
       " 'https://juntoscontracoronavirus.com',\n",
       " 'https://lojasamericacombateaocovid-19.ml',\n",
       " 'https://mail.covid-19.xxx-wa.com',\n",
       " 'https://mbhydro-covid19.com',\n",
       " 'https://mesdecombateaocovid-19.ml',\n",
       " 'https://microsoftvirusremovalfromsystem.in',\n",
       " 'https://nepalcoronavirus2.000webhostapp.com',\n",
       " 'https://netflix-covid-19.com',\n",
       " 'https://netflixbrazilcovid.com',\n",
       " 'https://newcovid19unread.z13.web.core.windows.net',\n",
       " 'https://nr01petitieonline-covid19byfacebook.gq',\n",
       " 'https://oldschool.runescape-covid-19.info',\n",
       " 'https://portal.auone.jp-verifykey.covid-191.com',\n",
       " 'https://pre-covid.info',\n",
       " 'https://previnasedocoronavirus.com',\n",
       " 'https://register-toparticipateviruscoronafree300coin.mrbonus.com',\n",
       " 'https://rogers-covid19.com',\n",
       " 'https://shop---covid19.rf.gd',\n",
       " 'https://shop--covid-19.rf.gd',\n",
       " 'https://shop--covid19.rf.gd',\n",
       " 'https://shop-covid19-2021.rf.gd',\n",
       " 'https://shop-covid19.rf.gd',\n",
       " 'https://shop-sars-covid19.rf.gd',\n",
       " 'https://shopcovid-19.rf.gd',\n",
       " 'https://shops-covid-19.rf.gd',\n",
       " 'https://shopscovid19.rf.gd',\n",
       " 'https://sicurezza-covid19.com',\n",
       " 'https://store1secure.covid19mascarillasymas.com',\n",
       " 'https://todasaslojascontraocovid-19american.ml',\n",
       " 'https://todoscontraocovid19.com',\n",
       " 'https://todosjuntoscontraocovid.com',\n",
       " 'https://uberpromocovid19.000webhostapp.com',\n",
       " 'https://us-coronavirus-cases-state-by-state.afyfr.com',\n",
       " 'https://vamosnoprevinirtododiadocovid.com',\n",
       " 'https://verizoncovid-12.com',\n",
       " 'https://virus-alert-w01e02.pw',\n",
       " 'https://virus-os-e37dn61.club',\n",
       " 'https://virusflourished23.azurewebsites.net',\n",
       " 'https://virusscoronas.000webhostapp.com',\n",
       " 'https://viruswarningnandalert.in',\n",
       " 'https://vzwcovid19g-001-site1.1tempurl.com',\n",
       " 'https://vzwcovid19i-001-site1.1tempurl.com',\n",
       " 'https://webmail.accenter.answerivecovid19.com',\n",
       " 'https://www.4mysecure-facebookcovid19petition.cf',\n",
       " 'https://www.airbnb.id-covid19.com',\n",
       " 'https://www.americanascovidshop.com',\n",
       " 'https://www.antiviruscompares2020.com',\n",
       " 'https://www.coronavirusonooeir.huidps.com',\n",
       " 'https://www.covid-19challengecoin.com',\n",
       " 'https://www.covidmask24.com',\n",
       " 'https://www.gov-ca-covid19.org',\n",
       " 'https://www.irshelpcovid19.com',\n",
       " 'https://www.ita-covid19.com',\n",
       " 'https://www.itaucovid19.com',\n",
       " 'https://www.n95mask-covid19.com',\n",
       " 'https://www.netflix-covid-19.com',\n",
       " 'https://www.netflixbrazilcovid.com',\n",
       " 'https://www.promo-covid19-neftlix.ml',\n",
       " 'https://www.rogers-covid19.com',\n",
       " 'https://xn--jelpmedstoppespredningenavkoronavirus-4ed.weebly.com',\n",
       " 'https://zendesk-covid19.org',\n",
       " 'https://zonasegurabeta.viabcp-covid19.xyz']"
      ]
     },
     "execution_count": 8,
     "metadata": {},
     "output_type": "execute_result"
    }
   ],
   "source": [
    "temp_list"
   ]
  },
  {
   "cell_type": "code",
   "execution_count": 2,
   "metadata": {},
   "outputs": [],
   "source": [
    "Unlabeled_url_list = unlabeled_final['Unified_url']"
   ]
  },
  {
   "cell_type": "code",
   "execution_count": 3,
   "metadata": {},
   "outputs": [
    {
     "data": {
      "text/plain": [
       "'http://coronavirusemploymentservices.com'"
      ]
     },
     "execution_count": 3,
     "metadata": {},
     "output_type": "execute_result"
    }
   ],
   "source": [
    "Unlabeled_url_list[0]"
   ]
  },
  {
   "cell_type": "code",
   "execution_count": null,
   "metadata": {},
   "outputs": [],
   "source": [
    "import requests\n",
    "from tqdm import tqdm\n",
    "from lxml import etree\n",
    "\n",
    "import sys\n",
    "# sys.setdefaultencoding(\"utf-8\")\n",
    "Bing_url2 = []\n",
    "def getfrombing(word):\n",
    "  #  url='http://global.bing.com/search?q='+word+'&Accept-Language=en-us%3bq%3d0.5%2cen%3bq%3d0.3&Accept-Encoding=gzip%2c+deflate%2c+compress&Accept=text%2fhtml%2capplication%2fxhtml%2bxml%2capplication%2fxml%3bq%3d0.9%2c*%2f*%3bq%3d0.8&User-Agent=Mozilla%2f5.0+(X11%3b+Ubuntu%3b+Linux+x86_64%3b+rv%3a22.0)+Gecko%2f20100101+Firefox%2f22.0&Connection=keep-alive&Cache-Control=max-age%3d0&setmkt=en-us&setlang=en-us&FORM=SECNEN'\n",
    "    url = 'http://global.bing.com/search?q='+word+'&qs=bs&ajf=60&first=1&Accept-Language=en-us'\n",
    "    headers = {\n",
    "        'Accept': 'text/html,application/xhtml+xml,application/xml;q=0.9,*/*;q=0.8',\n",
    "        'Accept-Encoding': 'gzip, deflate, compress',\n",
    "        'Accept-Language': 'en-us;q=0.5,en;q=0.3',\n",
    "        'Cache-Control': 'max-age=0',\n",
    "        'Connection': 'keep-alive',\n",
    "        'User-Agent': 'Mozilla/5.0 (X11; Ubuntu; Linux x86_64; rv:22.0) Gecko/20100101 Firefox/22.0'\n",
    "    }\n",
    "\n",
    "    flag0 = 10\n",
    "    #爬取网页的数量\n",
    "    getattr(tqdm, '_instances', {}).clear()\n",
    "    for k in tqdm(range(0,20000)):\n",
    "        path = etree.HTML(requests.get(url=url, headers=headers).content.decode('utf-8'))\n",
    "        flag=15\n",
    "        if k == 0:\n",
    "            flag=9\n",
    "        for i in range(1,flag):\n",
    "            words=\"\"\n",
    "            for j in path.xpath('//*[@id=\"b_results\"]/li[%d]/h2/a/@href'%i):\n",
    "                Bing_url2.append(j)\n",
    "        flag0+=flag-1\n",
    "        url='http://global.bing.com/search?q='+word+'&qs=bs&ajf=60&first='+str(flag0)+'&Accept-Language=en-us'\n",
    "#         print(url)\n",
    "    return list\n",
    "\n",
    "if __name__ == '__main__':\n",
    "    getfrombing('covid')"
   ]
  }
 ],
 "metadata": {
  "kernelspec": {
   "display_name": "Python 3",
   "language": "python",
   "name": "python3"
  },
  "language_info": {
   "codemirror_mode": {
    "name": "ipython",
    "version": 3
   },
   "file_extension": ".py",
   "mimetype": "text/x-python",
   "name": "python",
   "nbconvert_exporter": "python",
   "pygments_lexer": "ipython3",
   "version": "3.7.4"
  }
 },
 "nbformat": 4,
 "nbformat_minor": 2
}
