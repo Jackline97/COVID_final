{
 "cells": [
  {
   "cell_type": "code",
   "execution_count": 145,
   "metadata": {},
   "outputs": [],
   "source": [
    "import pandas as pd\n",
    "unlabeled_final = pd.read_csv('data_unlabled_data_final_version2.csv',sep=',',encoding = \"ISO-8859-1\")\n",
    "confirmed_maclious_final = pd.read_csv('data_confirmed_CovidURL_final_version2.csv',sep=',',encoding = \"ISO-8859-1\")\n",
    "white_list_final = pd.read_csv('data_Confirmed_whitelist_final_version2.csv',sep=',',encoding = \"ISO-8859-1\")"
   ]
  },
  {
   "cell_type": "code",
   "execution_count": 147,
   "metadata": {},
   "outputs": [
    {
     "data": {
      "text/html": [
       "<div>\n",
       "<style scoped>\n",
       "    .dataframe tbody tr th:only-of-type {\n",
       "        vertical-align: middle;\n",
       "    }\n",
       "\n",
       "    .dataframe tbody tr th {\n",
       "        vertical-align: top;\n",
       "    }\n",
       "\n",
       "    .dataframe thead th {\n",
       "        text-align: right;\n",
       "    }\n",
       "</style>\n",
       "<table border=\"1\" class=\"dataframe\">\n",
       "  <thead>\n",
       "    <tr style=\"text-align: right;\">\n",
       "      <th></th>\n",
       "      <th>Unified_url</th>\n",
       "      <th>Reachable_URL</th>\n",
       "      <th>Way_back_archived</th>\n",
       "      <th>Freenom_top_level_domain</th>\n",
       "      <th>Previous_malicious_top_level_domain_TLD</th>\n",
       "      <th>Name_length</th>\n",
       "      <th>Wrong_spell_List</th>\n",
       "      <th>Longest_word_ratio</th>\n",
       "      <th>Special_mark</th>\n",
       "      <th>sub_domain</th>\n",
       "      <th>Contain_Weried_number_combination</th>\n",
       "      <th>levenshtein_distance</th>\n",
       "      <th>Alexa_rank</th>\n",
       "      <th>Status_code</th>\n",
       "      <th>start_date</th>\n",
       "      <th>wildcard_subdomain</th>\n",
       "      <th>Redirect_URL</th>\n",
       "      <th>Created on 2020</th>\n",
       "    </tr>\n",
       "  </thead>\n",
       "  <tbody>\n",
       "    <tr>\n",
       "      <th>0</th>\n",
       "      <td>https://akkure4covid.com</td>\n",
       "      <td>0</td>\n",
       "      <td>1</td>\n",
       "      <td>0</td>\n",
       "      <td>0</td>\n",
       "      <td>7</td>\n",
       "      <td>0</td>\n",
       "      <td>0.090909</td>\n",
       "      <td>0</td>\n",
       "      <td>1</td>\n",
       "      <td>0</td>\n",
       "      <td>5</td>\n",
       "      <td>0</td>\n",
       "      <td>503</td>\n",
       "      <td>2020</td>\n",
       "      <td>0</td>\n",
       "      <td>0</td>\n",
       "      <td>1</td>\n",
       "    </tr>\n",
       "    <tr>\n",
       "      <th>1</th>\n",
       "      <td>https://api.contracovid.com.br</td>\n",
       "      <td>1</td>\n",
       "      <td>0</td>\n",
       "      <td>0</td>\n",
       "      <td>0</td>\n",
       "      <td>7</td>\n",
       "      <td>0</td>\n",
       "      <td>0.071429</td>\n",
       "      <td>0</td>\n",
       "      <td>3</td>\n",
       "      <td>0</td>\n",
       "      <td>10</td>\n",
       "      <td>0</td>\n",
       "      <td>200</td>\n",
       "      <td>2014</td>\n",
       "      <td>0</td>\n",
       "      <td>0</td>\n",
       "      <td>0</td>\n",
       "    </tr>\n",
       "    <tr>\n",
       "      <th>2</th>\n",
       "      <td>https://app.contracovid.com.br</td>\n",
       "      <td>1</td>\n",
       "      <td>0</td>\n",
       "      <td>0</td>\n",
       "      <td>0</td>\n",
       "      <td>7</td>\n",
       "      <td>0</td>\n",
       "      <td>0.071429</td>\n",
       "      <td>0</td>\n",
       "      <td>3</td>\n",
       "      <td>0</td>\n",
       "      <td>10</td>\n",
       "      <td>0</td>\n",
       "      <td>200</td>\n",
       "      <td>2014</td>\n",
       "      <td>0</td>\n",
       "      <td>0</td>\n",
       "      <td>0</td>\n",
       "    </tr>\n",
       "    <tr>\n",
       "      <th>3</th>\n",
       "      <td>https://auxilio.caixa.gov.br</td>\n",
       "      <td>1</td>\n",
       "      <td>1</td>\n",
       "      <td>0</td>\n",
       "      <td>0</td>\n",
       "      <td>8</td>\n",
       "      <td>0</td>\n",
       "      <td>0.076923</td>\n",
       "      <td>0</td>\n",
       "      <td>3</td>\n",
       "      <td>0</td>\n",
       "      <td>13</td>\n",
       "      <td>1</td>\n",
       "      <td>200</td>\n",
       "      <td>2015</td>\n",
       "      <td>0</td>\n",
       "      <td>0</td>\n",
       "      <td>0</td>\n",
       "    </tr>\n",
       "    <tr>\n",
       "      <th>4</th>\n",
       "      <td>https://bag-coronavirus.ch</td>\n",
       "      <td>1</td>\n",
       "      <td>1</td>\n",
       "      <td>0</td>\n",
       "      <td>0</td>\n",
       "      <td>4</td>\n",
       "      <td>0</td>\n",
       "      <td>0.083333</td>\n",
       "      <td>1</td>\n",
       "      <td>1</td>\n",
       "      <td>0</td>\n",
       "      <td>6</td>\n",
       "      <td>1</td>\n",
       "      <td>200</td>\n",
       "      <td>2015</td>\n",
       "      <td>0</td>\n",
       "      <td>0</td>\n",
       "      <td>0</td>\n",
       "    </tr>\n",
       "  </tbody>\n",
       "</table>\n",
       "</div>"
      ],
      "text/plain": [
       "                      Unified_url  Reachable_URL  Way_back_archived  \\\n",
       "0        https://akkure4covid.com              0                  1   \n",
       "1  https://api.contracovid.com.br              1                  0   \n",
       "2  https://app.contracovid.com.br              1                  0   \n",
       "3    https://auxilio.caixa.gov.br              1                  1   \n",
       "4      https://bag-coronavirus.ch              1                  1   \n",
       "\n",
       "   Freenom_top_level_domain  Previous_malicious_top_level_domain_TLD  \\\n",
       "0                         0                                        0   \n",
       "1                         0                                        0   \n",
       "2                         0                                        0   \n",
       "3                         0                                        0   \n",
       "4                         0                                        0   \n",
       "\n",
       "   Name_length  Wrong_spell_List  Longest_word_ratio  Special_mark  \\\n",
       "0            7                 0            0.090909             0   \n",
       "1            7                 0            0.071429             0   \n",
       "2            7                 0            0.071429             0   \n",
       "3            8                 0            0.076923             0   \n",
       "4            4                 0            0.083333             1   \n",
       "\n",
       "   sub_domain  Contain_Weried_number_combination  levenshtein_distance  \\\n",
       "0           1                                  0                     5   \n",
       "1           3                                  0                    10   \n",
       "2           3                                  0                    10   \n",
       "3           3                                  0                    13   \n",
       "4           1                                  0                     6   \n",
       "\n",
       "   Alexa_rank  Status_code  start_date  wildcard_subdomain  Redirect_URL  \\\n",
       "0           0          503        2020                   0             0   \n",
       "1           0          200        2014                   0             0   \n",
       "2           0          200        2014                   0             0   \n",
       "3           1          200        2015                   0             0   \n",
       "4           1          200        2015                   0             0   \n",
       "\n",
       "   Created on 2020  \n",
       "0                1  \n",
       "1                0  \n",
       "2                0  \n",
       "3                0  \n",
       "4                0  "
      ]
     },
     "execution_count": 147,
     "metadata": {},
     "output_type": "execute_result"
    }
   ],
   "source": [
    "white_list_final.head()"
   ]
  },
  {
   "cell_type": "code",
   "execution_count": 5,
   "metadata": {},
   "outputs": [],
   "source": [
    "Unlabeled_url_list = unlabeled_final['Unified_url']"
   ]
  },
  {
   "cell_type": "code",
   "execution_count": 6,
   "metadata": {},
   "outputs": [
    {
     "name": "stdout",
     "output_type": "stream",
     "text": [
      "57372\n"
     ]
    }
   ],
   "source": [
    "length = int(len(Unlabeled_url_list)/2)\n",
    "new_length = int(length/2)\n",
    "print(new_length)"
   ]
  },
  {
   "cell_type": "code",
   "execution_count": 2,
   "metadata": {},
   "outputs": [
    {
     "name": "stdout",
     "output_type": "stream",
     "text": [
      "Collecting azure-cognitiveservices-search-customsearch\n",
      "  Downloading https://files.pythonhosted.org/packages/c0/11/3314eac6118bae5bf0cdea22721e4c840f682bd932308157620b27758ae7/azure_cognitiveservices_search_customsearch-0.3.0-py2.py3-none-any.whl\n",
      "Collecting azure-common~=1.1 (from azure-cognitiveservices-search-customsearch)\n",
      "  Downloading https://files.pythonhosted.org/packages/e5/4d/d000fc3c5af601d00d55750b71da5c231fcb128f42ac95b208ed1091c2c1/azure_common-1.1.25-py2.py3-none-any.whl\n",
      "Collecting msrest>=0.5.0 (from azure-cognitiveservices-search-customsearch)\n",
      "\u001b[?25l  Downloading https://files.pythonhosted.org/packages/b6/b4/a95380d5199c4785b318038db6d199a203f6970188876b473c00533bc17f/msrest-0.6.17-py2.py3-none-any.whl (84kB)\n",
      "\u001b[K     |████████████████████████████████| 92kB 1.8MB/s eta 0:00:011\n",
      "\u001b[?25hCollecting requests-oauthlib>=0.5.0 (from msrest>=0.5.0->azure-cognitiveservices-search-customsearch)\n",
      "  Using cached https://files.pythonhosted.org/packages/a3/12/b92740d845ab62ea4edf04d2f4164d82532b5a0b03836d4d4e71c6f3d379/requests_oauthlib-1.3.0-py2.py3-none-any.whl\n",
      "Requirement already satisfied: requests~=2.16 in /Users/jackline/miniconda3/lib/python3.7/site-packages (from msrest>=0.5.0->azure-cognitiveservices-search-customsearch) (2.21.0)\n",
      "Collecting isodate>=0.6.0 (from msrest>=0.5.0->azure-cognitiveservices-search-customsearch)\n",
      "\u001b[?25l  Downloading https://files.pythonhosted.org/packages/9b/9f/b36f7774ff5ea8e428fdcfc4bb332c39ee5b9362ddd3d40d9516a55221b2/isodate-0.6.0-py2.py3-none-any.whl (45kB)\n",
      "\u001b[K     |████████████████████████████████| 51kB 3.5MB/s eta 0:00:01\n",
      "\u001b[?25hRequirement already satisfied: certifi>=2017.4.17 in /Users/jackline/miniconda3/lib/python3.7/site-packages (from msrest>=0.5.0->azure-cognitiveservices-search-customsearch) (2019.3.9)\n",
      "Collecting oauthlib>=3.0.0 (from requests-oauthlib>=0.5.0->msrest>=0.5.0->azure-cognitiveservices-search-customsearch)\n",
      "  Using cached https://files.pythonhosted.org/packages/05/57/ce2e7a8fa7c0afb54a0581b14a65b56e62b5759dbc98e80627142b8a3704/oauthlib-3.1.0-py2.py3-none-any.whl\n",
      "Requirement already satisfied: idna<2.9,>=2.5 in /Users/jackline/miniconda3/lib/python3.7/site-packages (from requests~=2.16->msrest>=0.5.0->azure-cognitiveservices-search-customsearch) (2.8)\n",
      "Requirement already satisfied: urllib3<1.25,>=1.21.1 in /Users/jackline/miniconda3/lib/python3.7/site-packages (from requests~=2.16->msrest>=0.5.0->azure-cognitiveservices-search-customsearch) (1.24.1)\n",
      "Requirement already satisfied: chardet<3.1.0,>=3.0.2 in /Users/jackline/miniconda3/lib/python3.7/site-packages (from requests~=2.16->msrest>=0.5.0->azure-cognitiveservices-search-customsearch) (3.0.4)\n",
      "Requirement already satisfied: six in /Users/jackline/miniconda3/lib/python3.7/site-packages (from isodate>=0.6.0->msrest>=0.5.0->azure-cognitiveservices-search-customsearch) (1.12.0)\n",
      "Installing collected packages: azure-common, oauthlib, requests-oauthlib, isodate, msrest, azure-cognitiveservices-search-customsearch\n",
      "Successfully installed azure-cognitiveservices-search-customsearch-0.3.0 azure-common-1.1.25 isodate-0.6.0 msrest-0.6.17 oauthlib-3.1.0 requests-oauthlib-1.3.0\n"
     ]
    }
   ],
   "source": [
    "!pip install azure-cognitiveservices-search-customsearch"
   ]
  },
  {
   "cell_type": "code",
   "execution_count": 3,
   "metadata": {},
   "outputs": [],
   "source": [
    "from azure.cognitiveservices.search.customsearch import CustomSearchClient\n",
    "from msrest.authentication import CognitiveServicesCredentials"
   ]
  },
  {
   "cell_type": "code",
   "execution_count": 125,
   "metadata": {},
   "outputs": [
    {
     "name": "stderr",
     "output_type": "stream",
     "text": [
      "Subtype value Organization has no mapping, use base class Thing.\n",
      "Subtype value Organization has no mapping, use base class Thing.\n",
      "Subtype value Organization has no mapping, use base class Thing.\n",
      "Subtype value Organization has no mapping, use base class Thing.\n",
      "Subtype value Organization has no mapping, use base class Thing.\n"
     ]
    },
    {
     "name": "stdout",
     "output_type": "stream",
     "text": [
      "\r\n",
      "Searching for \"Niagara Falls\"\n"
     ]
    }
   ],
   "source": [
    "# Import required modules.\n",
    "\n",
    "from azure.cognitiveservices.search.websearch import WebSearchClient\n",
    "from azure.cognitiveservices.search.websearch.models import SafeSearch\n",
    "from msrest.authentication import CognitiveServicesCredentials\n",
    "\n",
    "# Replace with your subscription key.\n",
    "subscription_key = \"f810a9bf4f684994a57e2b267b2c7f8d\"\n",
    "\n",
    "# # Instantiate the client and replace with your endpoint.\n",
    "\n",
    "\n",
    "# # Make a request. Replace Yosemite if you'd like.\n",
    "# web_data = client.web.search(query=\"Yosemite\")\n",
    "# print(\"\\r\\nSearched for Query# \\\" Yosemite \\\"\")\n",
    "\n",
    "# '''\n",
    "# Web pages\n",
    "# If the search response contains web pages, the first result's name and url\n",
    "# are printed.\n",
    "# '''\n",
    "# if hasattr(web_data.web_pages, 'value'):\n",
    "\n",
    "#     print(\"\\r\\nWebpage Results#{}\".format(len(web_data.web_pages.value)))\n",
    "\n",
    "#     first_web_page = web_data.web_pages.value[0]\n",
    "#     print(\"First web page name: {} \".format(first_web_page.name))\n",
    "#     print(\"First web page URL: {} \".format(first_web_page.url))\n",
    "\n",
    "# else:\n",
    "#     print(\"Didn't find any web pages...\")\n",
    "\n",
    "Bing_url2 = []\n",
    "# Declare the function.\n",
    "def web_search_with_answer_count_promote_and_safe_search(subscription_key):\n",
    "\n",
    "    client = WebSearchClient(endpoint=\"https://jackline.cognitiveservices.azure.com/\", credentials=CognitiveServicesCredentials(subscription_key))\n",
    "\n",
    "    '''\n",
    "    Set the query, answer_count, promote, and safe_search parameters using the SDK's search method. See:\n",
    "    https://docs.microsoft.com/python/api/azure-cognitiveservices-search-websearch/azure.cognitiveservices.search.websearch.operations.weboperations?view=azure-python.\n",
    "    '''\n",
    "    web_data = client.web.search(\n",
    "        query=\"Covid\",\n",
    "        count = 50,\n",
    "        answer_count=1000,\n",
    "        promote=[\"News\"],\n",
    "        safe_search=SafeSearch.strict  # or directly \"Strict\"\n",
    "    )\n",
    "    print(\"\\r\\nSearching for \\\"Niagara Falls\\\"\")\n",
    "\n",
    "    '''\n",
    "    If results are available, print the # of responses, and the first result returned.\n",
    "    '''\n",
    "    for i in web_data.web_pages.value:\n",
    "        Bing_url2.append(i.url)\n",
    "#     if web_data.web_pages.value:\n",
    "\n",
    "#         print(\"Webpage Results#{}\".format(len(web_data.web_pages.value)))\n",
    "\n",
    "#         first_web_page = web_data.web_pages.value[0]\n",
    "#         print(\"First web page name: {} \".format(first_web_page.name))\n",
    "#         print(\"First web page URL: {} \".format(first_web_page.url))\n",
    "\n",
    "#     else:\n",
    "#         print(\"Didn't see any Web data..\")\n",
    "\n",
    "        \n",
    "web_search_with_answer_count_promote_and_safe_search(subscription_key)"
   ]
  },
  {
   "cell_type": "code",
   "execution_count": 38,
   "metadata": {},
   "outputs": [
    {
     "data": {
      "text/plain": [
       "49"
      ]
     },
     "execution_count": 38,
     "metadata": {},
     "output_type": "execute_result"
    }
   ],
   "source": [
    "len(New_Bing_url)"
   ]
  },
  {
   "cell_type": "code",
   "execution_count": 82,
   "metadata": {},
   "outputs": [
    {
     "data": {
      "text/plain": [
       "352"
      ]
     },
     "execution_count": 82,
     "metadata": {},
     "output_type": "execute_result"
    }
   ],
   "source": [
    "import numpy as np\n",
    "len(np.unique(Bing_url))"
   ]
  },
  {
   "cell_type": "code",
   "execution_count": 134,
   "metadata": {},
   "outputs": [
    {
     "name": "stderr",
     "output_type": "stream",
     "text": [
      "  0%|          | 15/3000 [00:20<1:08:26,  1.38s/it]\n",
      "100%|██████████| 1000/1000 [07:04<00:00,  2.35it/s]\n"
     ]
    }
   ],
   "source": [
    "import requests\n",
    "from tqdm import tqdm\n",
    "from lxml import etree\n",
    "\n",
    "import sys\n",
    "# sys.setdefaultencoding(\"utf-8\")\n",
    "Bing_url = []\n",
    "def getfrombing(word):\n",
    "  #  url='http://global.bing.com/search?q='+word+'&Accept-Language=en-us%3bq%3d0.5%2cen%3bq%3d0.3&Accept-Encoding=gzip%2c+deflate%2c+compress&Accept=text%2fhtml%2capplication%2fxhtml%2bxml%2capplication%2fxml%3bq%3d0.9%2c*%2f*%3bq%3d0.8&User-Agent=Mozilla%2f5.0+(X11%3b+Ubuntu%3b+Linux+x86_64%3b+rv%3a22.0)+Gecko%2f20100101+Firefox%2f22.0&Connection=keep-alive&Cache-Control=max-age%3d0&setmkt=en-us&setlang=en-us&FORM=SECNEN'\n",
    "    url = 'http://global.bing.com/search?q='+word+'&qs=bs&ajf=60&first=1&Accept-Language=en-us'\n",
    "    headers = {\n",
    "        'Accept': 'text/html,application/xhtml+xml,application/xml;q=0.9,*/*;q=0.8',\n",
    "        'Accept-Encoding': 'gzip, deflate, compress',\n",
    "        'Accept-Language': 'en-us;q=0.5,en;q=0.3',\n",
    "        'Cache-Control': 'max-age=0',\n",
    "        'Connection': 'keep-alive',\n",
    "        'User-Agent': 'Mozilla/5.0 (X11; Ubuntu; Linux x86_64; rv:22.0) Gecko/20100101 Firefox/22.0'\n",
    "    }\n",
    "\n",
    "    flag0 = 1\n",
    "    #爬取网页的数量\n",
    "    getattr(tqdm, '_instances', {}).clear()\n",
    "    for k in tqdm(range(0,1000)):\n",
    "        path = etree.HTML(requests.get(url=url, headers=headers).content.decode('utf-8'))\n",
    "        flag=10\n",
    "        if k == 0:\n",
    "            flag=9\n",
    "        for i in range(1,flag):\n",
    "            for j in path.xpath('//*[@id=\"b_results\"]/li[%d]/h2/a/@href'%i):\n",
    "                Bing_url.append(j)\n",
    "        url='http://global.bing.com/search?q='+word+'&qs=bs&ajf=60&first='+str(flag0)+'&Accept-Language=en-us'\n",
    "        flag0+=flag\n",
    "#         print(url)\n",
    "    return list\n",
    "\n",
    "if __name__ == '__main__':\n",
    "    getfrombing('covid')"
   ]
  },
  {
   "cell_type": "code",
   "execution_count": 154,
   "metadata": {},
   "outputs": [
    {
     "data": {
      "text/plain": [
       "6156"
      ]
     },
     "execution_count": 154,
     "metadata": {},
     "output_type": "execute_result"
    }
   ],
   "source": [
    "len(Bing_url)"
   ]
  },
  {
   "cell_type": "code",
   "execution_count": 136,
   "metadata": {},
   "outputs": [],
   "source": [
    "final_bing_url = np.unique(Bing_url+Bing_url2)"
   ]
  },
  {
   "cell_type": "code",
   "execution_count": 159,
   "metadata": {},
   "outputs": [
    {
     "data": {
      "text/plain": [
       "676"
      ]
     },
     "execution_count": 159,
     "metadata": {},
     "output_type": "execute_result"
    }
   ],
   "source": [
    "len(final_bing_url)"
   ]
  },
  {
   "cell_type": "code",
   "execution_count": 149,
   "metadata": {},
   "outputs": [],
   "source": [
    "tol = len(final_bing_url) + len(confirmed_maclious_final['Unified_url']) + len(white_list_final['Unified_url']) + 153"
   ]
  },
  {
   "cell_type": "code",
   "execution_count": 153,
   "metadata": {},
   "outputs": [
    {
     "data": {
      "text/plain": [
       "0.5253595760787282"
      ]
     },
     "execution_count": 153,
     "metadata": {},
     "output_type": "execute_result"
    }
   ],
   "source": [
    "(len(confirmed_maclious_final['Unified_url'])+300) / tol"
   ]
  },
  {
   "cell_type": "code",
   "execution_count": 140,
   "metadata": {},
   "outputs": [],
   "source": [
    "temp_list = []\n",
    "import re\n",
    "for i in final_bing_url:\n",
    "    hostname = i\n",
    "    pattern = \"https://|http://|www.|https://www.|http://www.\"\n",
    "    pre_pattern_match = re.search(pattern, hostname)\n",
    "    if pre_pattern_match:\n",
    "        hostname = hostname[pre_pattern_match.end():]\n",
    "        post_pattern_match = re.search(\"/\", hostname)\n",
    "        if post_pattern_match:\n",
    "            hostname = hostname[:post_pattern_match.start()]\n",
    "        char = hostname\n",
    "    temp_list.append(char)\n"
   ]
  },
  {
   "cell_type": "code",
   "execution_count": 141,
   "metadata": {},
   "outputs": [
    {
     "data": {
      "text/plain": [
       "582"
      ]
     },
     "execution_count": 141,
     "metadata": {},
     "output_type": "execute_result"
    }
   ],
   "source": [
    "len(np.unique(temp_list))"
   ]
  },
  {
   "cell_type": "code",
   "execution_count": 143,
   "metadata": {},
   "outputs": [],
   "source": [
    "with open('Bing_result.txt', 'w') as f:\n",
    "    for item in np.unique(temp_list):\n",
    "        f.write(\"%s\\n\" % item)"
   ]
  },
  {
   "cell_type": "code",
   "execution_count": 160,
   "metadata": {},
   "outputs": [
    {
     "data": {
      "text/plain": [
       "582"
      ]
     },
     "execution_count": 160,
     "metadata": {},
     "output_type": "execute_result"
    }
   ],
   "source": [
    "len(np.unique(temp_list))"
   ]
  },
  {
   "cell_type": "code",
   "execution_count": 161,
   "metadata": {},
   "outputs": [
    {
     "data": {
      "text/plain": [
       "array(['abc7ny.com', 'abcnews.go.com', 'about.canva.com', 'about.fb.com',\n",
       "       'accelerator.weather.com', 'access.nyc.gov', 'aflcio.org',\n",
       "       'albertahealthservices.ca', 'applepedlar.github.io',\n",
       "       'arizonatogether.org', 'asprtracie.hhs.gov', 'az.gov',\n",
       "       'azcentral.com', 'azdhs.gov', 'bestpractice.bmj.com', 'bing.com',\n",
       "       'business.ca.gov', 'business.nv.gov', 'ca.news.yahoo.com',\n",
       "       'ca.thrive.health', 'calcat.covid19.ca.gov', 'calgaryherald.com',\n",
       "       'camh.echoontario.ca', 'capitalmarkets.bmo.com', 'casel.org',\n",
       "       'cen.acs.org', 'cepr.org', 'cihr-irsc.gc.ca', 'city.milwaukee.gov',\n",
       "       'coronavirus.1point3acres.com', 'coronavirus.beyondblue.org.au',\n",
       "       'coronavirus.dc.gov', 'coronavirus.duke.edu',\n",
       "       'coronavirus.health.ny.gov', 'coronavirus.idaho.gov',\n",
       "       'coronavirus.illinois.gov', 'coronavirus.illinoisstate.edu',\n",
       "       'coronavirus.iowa.gov', 'coronavirus.jhu.edu',\n",
       "       'coronavirus.maryland.gov', 'coronavirus.ohio.gov',\n",
       "       'coronavirus.providence.org', 'coronavirus.ucsd.edu',\n",
       "       'coronavirus.uiowa.edu', 'coronavirus.utah.gov',\n",
       "       'coronavirusupdates.uchicago.edu', 'covid-101.org',\n",
       "       'covid-19-newfoundland-and-labrador-gnl.hub.arcgis.com',\n",
       "       'covid-19-print-farm.webnode.com',\n",
       "       'covid-19-statistics-c1840.web.app', 'covid-19.bccdc.ca',\n",
       "       'covid-19.cochrane.org', 'covid-19.dnastack.com',\n",
       "       'covid-19.ebscomedical.com', 'covid-19.ontario.ca',\n",
       "       'covid-19.sledilnik.org', 'covid-19.tacc.utexas.edu',\n",
       "       'covid-19.ucla.edu', 'covid-art.github.io',\n",
       "       'covid-benefits.alpha.canada.ca',\n",
       "       'covid-response-moa-muniorg.hub.arcgis.com',\n",
       "       'covid-survey.dataforgood.fb.com',\n",
       "       'covid-tracker-dot-winnow-non-prod.appspot.com', 'covid.brown.edu',\n",
       "       'covid.colorado.gov', 'covid.gmt.io', 'covid.gov.pk',\n",
       "       'covid.joinzoe.com', 'covid.sd.gov', 'covid.smallbusinessbc.ca',\n",
       "       'covid.yale.edu', 'covid19.alabama.gov', 'covid19.alaska.gov',\n",
       "       'covid19.ca.gov', 'covid19.census.gov', 'covid19.columbia.edu',\n",
       "       'covid19.jcalonso.com', 'covid19.mcmaster.ca',\n",
       "       'covid19.ncdhhs.gov', 'covid19.nj.gov', 'covid19.research.ubc.ca',\n",
       "       'covid19.state.gov', 'covid19.ubc.ca', 'covid19.unl.edu',\n",
       "       'covid19.who.int', 'covid19.wisc.edu', 'covid19.wyo.gov',\n",
       "       'covid19.yale.edu', 'covid19challenge.mit.edu',\n",
       "       'covid19evidence.net.au', 'covid19healthbot.cdc.gov',\n",
       "       'covid19info.live', 'covid19learningresources.azurewebsites.net',\n",
       "       'covid19misinfo.org', 'covid19relief.sba.gov',\n",
       "       'covid19responsefund.org', 'covid19supplies.ca.gov',\n",
       "       'covid19survey.ethz.ch', 'covid2019.azurewebsites.net',\n",
       "       'covidmemo.law.stanford.edu', 'covidquestions.ca',\n",
       "       'covidtracking.com', 'crohnsandcolitiscanada.akaraisin.com',\n",
       "       'crsreports.congress.gov', 'cv.nmhealth.org', 'dailypost.ng',\n",
       "       'dashboard-covid-19.herokuapp.com', 'datassential.com',\n",
       "       'dew.sc.gov', 'dhhr.wv.gov', 'dhs.iowa.gov', 'doh.sd.gov',\n",
       "       'dpbh.nv.gov', 'dphhs.mt.gov', 'dshs.texas.gov', 'edd.ca.gov',\n",
       "       'edition.cnn.com', 'elaborer.org', 'emedicine.medscape.com',\n",
       "       'en.hesperian.org', 'en.unesco.org', 'en.wikipedia.org',\n",
       "       'esd.wa.gov', 'files.covid19.ca.gov', 'gis.cdc.gov', 'github.com',\n",
       "       'grants.nih.gov', 'hawaiicovid19.com', 'health-infobase.canada.ca',\n",
       "       'health.hawaii.gov', 'healthatlas.ucsf.edu',\n",
       "       'healthy.kaiserpermanente.org', 'hgis.uw.edu', 'hms.harvard.edu',\n",
       "       'home.pearsonvue.com', 'icite.od.nih.gov', 'ig.ft.com',\n",
       "       'infographics.channelnewsasia.com',\n",
       "       'instituteforfoodsafety.cornell.edu', 'ipac-canada.org',\n",
       "       'jack.org', 'jamanetwork.com', 'jobs.covid19.nj.gov',\n",
       "       'joindiaspora.com', 'journals.sagepub.com', 'justice.gc.ca',\n",
       "       'labor.vermont.gov', 'landing.google.com', 'lao.ca.gov',\n",
       "       'markusmannheim.github.io', 'med.stanford.edu', 'medium.com',\n",
       "       'medlineplus.gov', 'montreal.ctvnews.ca', 'montrealgazette.com',\n",
       "       'myhealth.alberta.ca', 'nafme.org', 'news.aa.com',\n",
       "       'news.google.com', 'news.gov.bc.ca', 'news.microsoft.com',\n",
       "       'news.sky.com', 'newsinteractives.cbc.ca',\n",
       "       'novel-coronavirus.onlinelibrary.wiley.com', 'nrc.canada.ca',\n",
       "       'nvhealthresponse.nv.gov', 'nymag.com', 'occ.ca', 'omh.ny.gov',\n",
       "       'online.citi.com', 'openwho.org', 'osha.oregon.gov', 'ottawa.ca',\n",
       "       'ottawa.ctvnews.ca', 'ourworldindata.org', 'paltc.org',\n",
       "       'patents.google.com', 'patient.info', 'people.com',\n",
       "       'petsmartcharities.org', 'physicianpodcasts.nm.org',\n",
       "       'pl.usembassy.gov', 'plus.mcmaster.ca', 'portal.311.nyc.gov',\n",
       "       'postgraduateeducation.hms.harvard.edu', 'projects.iq.harvard.edu',\n",
       "       'protect.purdue.edu', 'public.ehealthsask.ca',\n",
       "       'pubmed.ncbi.nlm.nih.gov',\n",
       "       'resources-covid19canada.hub.arcgis.com', 'restaurant.org',\n",
       "       'rheum-covid.org', 'santemontreal.qc.ca', 'self.covid19.nj.gov',\n",
       "       'sf.gov', 'sites.google.com', 'slate.com', 'smallgroupnetwork.com',\n",
       "       'success.ada.org', 'support.google.com', 'taxfoundation.org',\n",
       "       'tbub.sas.com', 'testing.covid19.ca.gov', 'thestarphoenix.com',\n",
       "       'time.com', 'tinyurl.com', 'toolkit.covid19.ca.gov',\n",
       "       'travel.state.gov', 'uhs.berkeley.edu', 'updates.usask.ca',\n",
       "       'us.cnn.com', 'vancouversun.com', 'virusncov.com', 'wcb.ab.ca',\n",
       "       'webcms.pima.gov', 'winnipeg.ca', 'www.aacap.org',\n",
       "       'www.acas.org.uk', 'www.acog.org', 'www.adaderana.lk',\n",
       "       'www.agc.org', 'www.al.com', 'www.alberta.ca', 'www.aljazeera.com',\n",
       "       'www.amtrak.com', 'www.aol.com', 'www.apa.org', 'www.archives.gov',\n",
       "       'www.arizona.edu', 'www.arlingtonva.us', 'www.asam.org',\n",
       "       'www.ato.gov.au', 'www.att.com', 'www.autism-society.org',\n",
       "       'www.autonews.com', 'www.avert.org', 'www.awwa.org',\n",
       "       'www.azcentral.com', 'www.bag.admin.ch', 'www.bbc.co.uk',\n",
       "       'www.bbc.com', 'www.bcbs.com', 'www.bdc.ca', 'www.bdo.ca',\n",
       "       'www.bell.ca', 'www.biomedcentral.com', 'www.bma.org.uk',\n",
       "       'www.bmocm.com', 'www.boma.org', 'www.bop.gov',\n",
       "       'www.bostonglobe.com', 'www.breitbart.com', 'www.broward.org',\n",
       "       'www.businessinsider.com', 'www.buzzfeednews.com', 'www.camh.ca',\n",
       "       'www.canada.ca', 'www.capebretonpost.com', 'www.cbc.ca',\n",
       "       'www.cbre.com', 'www.cbsnews.com', 'www.ccohs.ca', 'www.cdc.gov',\n",
       "       'www.cdcr.ca.gov', 'www.cde.ca.gov', 'www.cdfa.ca.gov',\n",
       "       'www.cdph.ca.gov', 'www.cebm.net', 'www.chabad.org',\n",
       "       'www.chase.com', 'www.childcare.gov', 'www.churchofengland.org',\n",
       "       'www.cidrap.umn.edu', 'www.cihi.ca', 'www.cisa.gov',\n",
       "       'www.cityofkingston.ca', 'www.clinicaltrialsarena.com',\n",
       "       'www.cma.ca', 'www.cmaj.ca', 'www.cmhc-schl.gc.ca', 'www.cnbc.com',\n",
       "       'www.cnet.com', 'www.cnn.com', 'www.co.fresno.ca.us',\n",
       "       'www.conferenceboard.ca', 'www.copyright.com', 'www.cor.pa.gov',\n",
       "       'www.coronavirus.in.gov', 'www.coronavirus.kdheks.gov',\n",
       "       'www.coronavirus.ms.gov', 'www.covid-19.sa.gov.au',\n",
       "       'www.covid-19canada.com', 'www.covid-19facts.com',\n",
       "       'www.covid19.act.gov.au', 'www.covid19.gov.ph',\n",
       "       'www.covid19q.herokuapp.com',\n",
       "       'www.covid19treatmentguidelines.nih.gov', 'www.covidactnow.org',\n",
       "       'www.covidnearyou.org', 'www.covidvisualizer.com',\n",
       "       'www.ctvnews.ca', 'www.dhhs.vic.gov.au', 'www.dhs.gov',\n",
       "       'www.digitaltrends.com', 'www.discover.com', 'www.doh.wa.gov',\n",
       "       'www.dol.gov', 'www.drugs.com', 'www.dshs.state.tx.us',\n",
       "       'www.dss.gov.au', 'www.eatright.org', 'www.ecdc.europa.eu',\n",
       "       'www.economist.com', 'www.ecri.org', 'www.edc.ca',\n",
       "       'www.edd.ca.gov', 'www.edmonton.ca', 'www.educanada.ca',\n",
       "       'www.elsevier.com', 'www.energy.gov', 'www.england.nhs.uk',\n",
       "       'www.epilepsy.com', 'www.era-edta.org', 'www.facs.org',\n",
       "       'www.fairfaxcounty.gov', 'www.fanniemae.com', 'www.fao.org',\n",
       "       'www.fedex.com', 'www.fema.gov', 'www.flamboroughreview.com',\n",
       "       'www.fldoe.org', 'www.fmcsa.dot.gov', 'www.fmi.org', 'www.fnha.ca',\n",
       "       'www.fns.usda.gov', 'www.forbes.com', 'www.foxnews.com',\n",
       "       'www.freddiemac.com', 'www.ft.com', 'www.futurelearn.com',\n",
       "       'www.gatesnotes.com', 'www.gfa.org', 'www.globalwebindex.com',\n",
       "       'www.gov.mb.ca', 'www.gov.nl.ca', 'www.gov.nt.ca', 'www.gov.nu.ca',\n",
       "       'www.gov.uk', 'www.gsa.gov', 'www.halton.ca', 'www.hamilton.ca',\n",
       "       'www.harvard.edu', 'www.hca.wa.gov', 'www.health.gov.au',\n",
       "       'www.health.gov.on.ca', 'www.health.harvard.edu',\n",
       "       'www.health.nd.gov', 'www.health.nsw.gov.au', 'www.healthdata.org',\n",
       "       'www.healthdirect.gov.au', 'www.healthlinkbc.ca',\n",
       "       'www.healthmap.org', 'www.heart.org', 'www.heretohelp.bc.ca',\n",
       "       'www.hhs.gov', 'www.hopkinsmedicine.org', 'www.hud.gov',\n",
       "       'www.humana.com', 'www.humanesociety.org', 'www.iaff.org',\n",
       "       'www.iata.org', 'www.ibm.com', 'www.icao.int',\n",
       "       'www.imagingassociates.com.au', 'www.imf.org', 'www.imo.org',\n",
       "       'www.in.gov', 'www.instagram.com', 'www.japan.travel',\n",
       "       'www.jdrf.org', 'www.jobbank.gc.ca', 'www.jointcommission.org',\n",
       "       'www.journalpioneer.com', 'www.jpost.com', 'www.justice.gov',\n",
       "       'www.kgw.com', 'www.kidney.org', 'www.kingcounty.gov',\n",
       "       'www.labor.ca.gov', 'www.latimes.com', 'www.lewuathe.com',\n",
       "       'www.littler.com', 'www.livescience.com', 'www.lni.wa.gov',\n",
       "       'www.madisoncounty.ny.gov', 'www.maine.gov', 'www.marketwatch.com',\n",
       "       'www.masslive.com', 'www.mayoclinic.org', 'www.mcgill.ca',\n",
       "       'www.mckinsey.com', 'www.medicaid.gov', 'www.medicare.gov',\n",
       "       'www.medicinenet.com', 'www.medscape.com',\n",
       "       'www.mentalhealth.va.gov', 'www.merriam-webster.com',\n",
       "       'www.miamibeachfl.gov', 'www.miamidade.gov', 'www.michigan.gov',\n",
       "       'www.mind.org.uk', 'www.mlive.com', 'www.monash.edu',\n",
       "       'www.montgomerycountymd.gov', 'www.msn.com', 'www.msnbc.com',\n",
       "       'www.naadac.org', 'www.nado.org', 'www.nami.org',\n",
       "       'www.nar.realtor', 'www.nasponline.org',\n",
       "       'www.nationalmssociety.org', 'www.nbcnews.com', 'www.nc.gov',\n",
       "       'www.ncaa.org', 'www.ncbi.nlm.nih.gov', 'www.ncsl.org',\n",
       "       'www.ndresponse.gov', 'www.ndtv.com', 'www.netflix.com',\n",
       "       'www.news.com.au', 'www.news24.com', 'www.newscientist.com',\n",
       "       'www.nga.org', 'www.nh.gov', 'www.nhpco.org', 'www.nhs.uk',\n",
       "       'www.niaid.nih.gov', 'www.nice.org.uk', 'www.nih.gov',\n",
       "       'www.nj211.org', 'www.nolo.com', 'www.novartis.com',\n",
       "       'www.novascotia.com', 'www.npr.org', 'www.nserc-crsng.gc.ca',\n",
       "       'www.nshealth.ca', 'www.nytimes.com', 'www.oakville.ca',\n",
       "       'www.oas.org', 'www.oecd.org', 'www.ontario.ca',\n",
       "       'www.ontariohealth.ca', 'www.opm.gov', 'www.oregonlive.com',\n",
       "       'www.orlandosentinel.com', 'www.osc.gov.on.ca', 'www.osha.gov',\n",
       "       'www.ottawapublichealth.ca', 'www.pa.gov', 'www.parks.ca.gov',\n",
       "       'www.patientaccess.com', 'www.pbs.org', 'www.pcusa.org',\n",
       "       'www.pharmacists.ca', 'www.phila.gov', 'www.physio-pedia.com',\n",
       "       'www.policeone.com', 'www.princeedwardisland.ca',\n",
       "       'www.princeton.edu', 'www.ptinews.com', 'www.ptsd.va.gov',\n",
       "       'www.publichealth.hscni.net', 'www.publichealthontario.ca',\n",
       "       'www.quebec.ca', 'www.queensu.ca', 'www.questdiagnostics.com',\n",
       "       'www.radio.com', 'www.rcdhu.com', 'www.rcog.org.uk',\n",
       "       'www.rd.usda.gov', 'www.realtor.com', 'www.reddit.com',\n",
       "       'www.reuters.com', 'www.rheumatology.org', 'www.rivcoph.org',\n",
       "       'www.riversideca.gov', 'www.sac-isc.gc.ca', 'www.safeco.com',\n",
       "       'www.samhsa.gov', 'www.sba.gov', 'www.sbs.com.au',\n",
       "       'www.sccgov.org', 'www.sccm.org', 'www.scdhec.gov',\n",
       "       'www.sciencedirect.com', 'www.sciencemag.org', 'www.seattlepi.com',\n",
       "       'www.sec.gov', 'www.securities-administrators.ca', 'www.self.com',\n",
       "       'www.seniorscouncil.net', 'www.snopes.com',\n",
       "       'www.socialworkers.org', 'www.solg.net', 'www.somerset.gov.uk',\n",
       "       'www.southernnevadahealthdistrict.org', 'www.southwest.com',\n",
       "       'www.sprint.com', 'www.staradvertiser.com', 'www.statcan.gc.ca',\n",
       "       'www.state.gov', 'www.statista.com', 'www.tableau.com',\n",
       "       'www.tampagov.net', 'www.tdjakes.org', 'www.texas.gov',\n",
       "       'www.thailandmedical.news', 'www.theatlantic.com',\n",
       "       'www.theblaze.com', 'www.thechronicleherald.ca',\n",
       "       'www.theglobeandmail.com', 'www.theguardian.com',\n",
       "       'www.themoscowtimes.com', 'www.thestar.com', 'www.thesun.co.uk',\n",
       "       'www.timescolonist.com', 'www.transit.dot.gov',\n",
       "       'www.travelers.com', 'www.tsa.gov', 'www.tuc.org.uk',\n",
       "       'www.twc.texas.gov', 'www.ualberta.ca', 'www.uhn.ca', 'www.un.org',\n",
       "       'www.unc.edu', 'www.undp.org', 'www.unicef.org',\n",
       "       'www.universitiesuk.ac.uk', 'www.unwto.org', 'www.uofmhealth.org',\n",
       "       'www.upmc.com', 'www.usa.gov', 'www.usatoday.com',\n",
       "       'www.usbank.com', 'www.uschamber.com', 'www.usef.org',\n",
       "       'www.usg.edu', 'www.uspto.gov', 'www.utoronto.ca', 'www.uvic.ca',\n",
       "       'www.uwindsor.ca', 'www.uwo.ca', 'www.va.gov',\n",
       "       'www.vdh.virginia.gov', 'www.virginia.gov',\n",
       "       'www.visualcapitalist.com', 'www.vitaltalk.org',\n",
       "       'www.washington.edu', 'www.washingtonpost.com', 'www.webmd.com',\n",
       "       'www.wef.org', 'www.weforum.org', 'www.whatsapp.com',\n",
       "       'www.whitehouse.gov', 'www.who.int', 'www.wikipedia.org',\n",
       "       'www.wired.com', 'www.worksafebc.com', 'www.worldometers.info',\n",
       "       'www.wptv.com', 'www.wsj.com', 'www.wxyz.com', 'www.youtube.com',\n",
       "       'www1.nyc.gov', 'www2.deloitte.com', 'www2.gmu.edu', 'www2.gnb.ca',\n",
       "       'www2.gov.bc.ca', 'www2.hse.ie', 'yukon.ca', 'zimnoch.smugmug.com'],\n",
       "      dtype='<U53')"
      ]
     },
     "execution_count": 161,
     "metadata": {},
     "output_type": "execute_result"
    }
   ],
   "source": [
    "np.unique(temp_list)"
   ]
  },
  {
   "cell_type": "code",
   "execution_count": null,
   "metadata": {},
   "outputs": [],
   "source": []
  }
 ],
 "metadata": {
  "kernelspec": {
   "display_name": "Python 3",
   "language": "python",
   "name": "python3"
  },
  "language_info": {
   "codemirror_mode": {
    "name": "ipython",
    "version": 3
   },
   "file_extension": ".py",
   "mimetype": "text/x-python",
   "name": "python",
   "nbconvert_exporter": "python",
   "pygments_lexer": "ipython3",
   "version": "3.7.4"
  }
 },
 "nbformat": 4,
 "nbformat_minor": 2
}
